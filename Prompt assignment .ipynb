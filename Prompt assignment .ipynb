{
 "cells": [
  {
   "cell_type": "markdown",
   "id": "73749dc1",
   "metadata": {},
   "source": [
    ". Pompt Engineering\n",
    "\n",
    "What is Prompt Engineering\n",
    ". Prompt Engineering involves crafting tailored instruction or queries to guide the language model towards desired outputs\n",
    ". It helps shape the behavior of the model and improves quality\n",
    "\n",
    "Anatomy of Prompt\n",
    "Defination :\n",
    "\n",
    "In the context of language models, a prompt refers to the input or instruction provided to the model to generate a specific response or output"
   ]
  }
 ],
 "metadata": {
  "language_info": {
   "name": "python"
  }
 },
 "nbformat": 4,
 "nbformat_minor": 5
}
